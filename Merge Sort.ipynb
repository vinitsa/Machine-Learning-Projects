{
 "cells": [
  {
   "cell_type": "code",
   "execution_count": 78,
   "metadata": {
    "collapsed": false
   },
   "outputs": [
    {
     "name": "stdout",
     "output_type": "stream",
     "text": [
      "[1, 3, 4, 6, 7]\n"
     ]
    }
   ],
   "source": [
    "\n",
    "def divide(num):\n",
    "    \n",
    "    if len(num)>1:\n",
    "        mid=len(num)/2\n",
    "        left=divide(num[:mid])\n",
    "        right=divide(num[mid:])\n",
    "        return(merge_sort(left,right))\n",
    "    else:\n",
    "        return(num)\n",
    "        \n",
    "def merge_sort(left,right):\n",
    "        sort=[]\n",
    "        i=0\n",
    "        j=0\n",
    "        while i < len(left) and j < len(right):\n",
    "            if left[i] > right[j]:\n",
    "                sort.append(right[j])\n",
    "                j=j+1\n",
    "            else:\n",
    "                sort.append(left[i])\n",
    "                i=i+1 \n",
    "        if len(left) > i and j >=len(right):\n",
    "            for i in range(i,len(left)):\n",
    "                  sort.append(left[i])\n",
    "        if len(right) > j and i >=len(left):\n",
    "            for j in range(j,len(right)):\n",
    "                  sort.append(right[j])    \n",
    "        return(sort)       \n",
    "            \n",
    "print(divide([7,6,4,3,1]))\n",
    "#twosum([8,5,4,3],11)"
   ]
  },
  {
   "cell_type": "code",
   "execution_count": null,
   "metadata": {
    "collapsed": true
   },
   "outputs": [],
   "source": []
  },
  {
   "cell_type": "code",
   "execution_count": null,
   "metadata": {
    "collapsed": false
   },
   "outputs": [],
   "source": []
  },
  {
   "cell_type": "code",
   "execution_count": null,
   "metadata": {
    "collapsed": false
   },
   "outputs": [],
   "source": []
  },
  {
   "cell_type": "code",
   "execution_count": null,
   "metadata": {
    "collapsed": true
   },
   "outputs": [],
   "source": []
  }
 ],
 "metadata": {
  "kernelspec": {
   "display_name": "Python 2",
   "language": "python",
   "name": "python2"
  },
  "language_info": {
   "codemirror_mode": {
    "name": "ipython",
    "version": 2
   },
   "file_extension": ".py",
   "mimetype": "text/x-python",
   "name": "python",
   "nbconvert_exporter": "python",
   "pygments_lexer": "ipython2",
   "version": "2.7.13"
  }
 },
 "nbformat": 4,
 "nbformat_minor": 0
}
